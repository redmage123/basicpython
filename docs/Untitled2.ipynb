{
 "cells": [
  {
   "cell_type": "code",
   "execution_count": 8,
   "id": "223ea191",
   "metadata": {},
   "outputs": [
    {
     "name": "stdout",
     "output_type": "stream",
     "text": [
      "First match:  I\n",
      "Second match:  love\n",
      "Third match:  Python!\n"
     ]
    }
   ],
   "source": [
    "import re\n",
    "\n",
    "data = \"I love Python!\"\n",
    "pattern = \"^(.*)\\s(.*)\\s(.*)$\"\n",
    "pattern_match = re.search(pattern,data)\n",
    "#pattern_match.group(0)\n",
    "print (\"First match: \",pattern_match.group(1))\n",
    "print(\"Second match: \",pattern_match.group(2))\n",
    "print (\"Third match: \",pattern_match.group(3))"
   ]
  },
  {
   "cell_type": "code",
   "execution_count": null,
   "id": "c4707133",
   "metadata": {},
   "outputs": [],
   "source": [
    "ipaddr_list = [\"192.168.100.1\",268.100.2.1]\n",
    "#Find all the IP addresses that match the pattern.\n",
    "#Find all the IP addresses that are in the valid range. \n"
   ]
  },
  {
   "cell_type": "code",
   "execution_count": 14,
   "id": "f709ef84",
   "metadata": {},
   "outputs": [
    {
     "name": "stdout",
     "output_type": "stream",
     "text": [
      "10100.00\n"
     ]
    }
   ],
   "source": [
    "class BankAccount:\n",
    "    def __init__(self,starting_balance, accountID, accountName):\n",
    "        self.balance = starting_balance\n",
    "        self.accountID = accountID\n",
    "        self.accountName = accountName\n",
    "        \n",
    "    def deposit(self,amt):\n",
    "        self.balance += amt\n",
    "    \n",
    "    def withdraw(self,amt):\n",
    "        self.balance -= amt\n",
    "    \n",
    "    def getBalance(self):\n",
    "        return self.balance\n",
    "    \n",
    "b = BankAccount(10000.00, 12345,\"Braun Brelin\")\n",
    "b.deposit(100.00)\n",
    "print (\"%.2f\" % (b.getBalance()))\n",
    "\n",
    "\n",
    "    \n"
   ]
  },
  {
   "cell_type": "code",
   "execution_count": 18,
   "id": "19007625",
   "metadata": {},
   "outputs": [
    {
     "name": "stdout",
     "output_type": "stream",
     "text": [
      "9000.0\n"
     ]
    }
   ],
   "source": [
    "class CheckingAccount(BankAccount):\n",
    "        pass\n",
    "    \n",
    "c = CheckingAccount(10000.00,12345,\"Braun Brelin\")\n",
    "c.getBalance()\n",
    "c.withdraw(1000.00)\n",
    "print (c.getBalance())"
   ]
  },
  {
   "cell_type": "code",
   "execution_count": 24,
   "id": "169f0523",
   "metadata": {},
   "outputs": [
    {
     "name": "stdout",
     "output_type": "stream",
     "text": [
      "Name = Braun Brelin Age = 21 Address = 1234 Main Street\n"
     ]
    }
   ],
   "source": [
    "class Person:\n",
    "\n",
    "    def __init__(self,name,age, address):\n",
    "        self.name = name\n",
    "        self.age = age\n",
    "        self.address = address\n",
    "        \n",
    "    def changeage(self,newage):\n",
    "        self.age = newage\n",
    "        return\n",
    "    \n",
    "    def changeaddress(self,newaddr):\n",
    "        self.address = newaddr\n",
    "    \n",
    "    # This is known as method overriding. \n",
    "    def __str__(self):\n",
    "        return \"Name = \" + self.name + \" Age = \" + str(self.age) + \" Address = \" + self.address\n",
    "    \n",
    "    \n",
    "class Employee(Person):\n",
    "    \n",
    "    def __init__(self,**kwargs):\n",
    "        super().__init__(kwargs[\"name\"],kwargs[\"age\"],kwargs[\"address\"])\n",
    "    ''' This class will contain attributes:\n",
    "        Employee ID\n",
    "        Role\n",
    "        Salary\n",
    "        \n",
    "        This class will contain methods:\n",
    "        ChangeSalary\n",
    "        ChangeRole\n",
    "        \n",
    "        '''\n",
    "    \n",
    "   # Roles = ('Workers', 'Supervisors', 'Managers')\n",
    "    \n",
    "''' Now, test each method in the classes. '''\n",
    "    \n",
    "p = Person(\"Braun Brelin\", 21, \"1234 Main Street\")\n",
    "e = Employee(name=\"Braun Brelin\",age=21,address=\"1234 Main Street\",emp_id = \"7345\",role = \"Manager\",salary = 50000.00)\n",
    "print (p)"
   ]
  },
  {
   "cell_type": "code",
   "execution_count": 33,
   "id": "fae7f96c",
   "metadata": {},
   "outputs": [
    {
     "name": "stdout",
     "output_type": "stream",
     "text": [
      "(6.4031242374328485, 0.8960553845713439)\n"
     ]
    }
   ],
   "source": [
    "from math import atan, sqrt\n",
    "class Vector:\n",
    "\n",
    "    # This is a static variable.\n",
    "    vector_count=0\n",
    "\n",
    "    \n",
    "    def __init__(self,x,y):\n",
    "        self.x = x\n",
    "        self.y = y\n",
    "        Vector.vector_count += 1\n",
    "        \n",
    "        \n",
    "    # This is method overriding.\n",
    "    def __str__(self):\n",
    "        return \"X: \" + str(self.x) + \" Y: \" + str(self.y)\n",
    "    \n",
    "    # This is called operator overloading. \n",
    "    def __add__(self,other):\n",
    "        return Vector(self.x + other.x, self.y + other.y)\n",
    "    \n",
    "    @staticmethod \n",
    "    def convert_to_polar(x,y):\n",
    "        return (sqrt(x**2 + y **2),atan(y/x))\n",
    "    \n",
    "    \n",
    "V1 = Vector(2,3)\n",
    "V2 = Vector (3,4)\n",
    "# The following two lines are equivalent\n",
    "V3 = V1 + V2\n",
    "#V3 = V1.__add__(V2)\n",
    "#print (V3)\n",
    "#print (Vector.vector_count)\n",
    "print (Vector.convert_to_polar(4,5))"
   ]
  },
  {
   "cell_type": "code",
   "execution_count": 35,
   "id": "e551b398",
   "metadata": {},
   "outputs": [
    {
     "name": "stdout",
     "output_type": "stream",
     "text": [
      "5\n",
      "6\n"
     ]
    }
   ],
   "source": [
    "def myfunc(a,b=0):\n",
    "    return a+b\n",
    "\n",
    "print (myfunc(5))\n",
    "print (myfunc(5,1))"
   ]
  },
  {
   "cell_type": "code",
   "execution_count": 41,
   "id": "8085fc62",
   "metadata": {},
   "outputs": [
    {
     "name": "stdout",
     "output_type": "stream",
     "text": [
      "<class 'tuple'>\n",
      "Fee\n",
      "Fi\n",
      "Fo\n",
      "Fum\n",
      "None\n",
      "<class 'tuple'>\n",
      "Foo\n",
      "Bar\n",
      "None\n"
     ]
    }
   ],
   "source": [
    "def myvarargs(*args):\n",
    "    print (type(args))\n",
    "    for arg in args:\n",
    "        print (arg)\n",
    "        \n",
    "        \n",
    "print(myvarargs(\"Fee\",\"Fi\",\"Fo\",\"Fum\"))\n",
    "print (myvarargs(\"Foo\",\"Bar\"))"
   ]
  },
  {
   "cell_type": "code",
   "execution_count": 43,
   "id": "f2b0eba1",
   "metadata": {},
   "outputs": [
    {
     "name": "stdout",
     "output_type": "stream",
     "text": [
      "Braun Brelin\n"
     ]
    }
   ],
   "source": [
    "def myfunc(**kwargs):\n",
    "    print (kwargs[\"name\"])\n",
    "\n",
    "myfunc(name=\"Braun Brelin\",age=21,address=\"1234 Main Street\")"
   ]
  },
  {
   "cell_type": "markdown",
   "id": "259e1509",
   "metadata": {},
   "source": [
    "Functional programming....\n",
    "\n",
    "Lambda function. "
   ]
  },
  {
   "cell_type": "code",
   "execution_count": 56,
   "id": "e1d4b9ca",
   "metadata": {},
   "outputs": [
    {
     "name": "stdout",
     "output_type": "stream",
     "text": [
      "[1, 4, 9, 16, 25, 36, 49, 64, 81, 100]\n",
      "<map object at 0x0000026108E7D5E0>\n",
      "range(0, 10)\n",
      "<zip object at 0x0000026108F975C0>\n"
     ]
    }
   ],
   "source": [
    "nums = [1,2,3,4,5,6,7,8,9,10]\n",
    "\n",
    "\n",
    "\n",
    "\n",
    "\n",
    "\n",
    "\n",
    "\n",
    "\n",
    "\n",
    "\n",
    "\n",
    "\n",
    "\n",
    "\n",
    "\n",
    "\n",
    "\n",
    "\n",
    "\n",
    "\n",
    "\n",
    "\n",
    "\n",
    "\n",
    "\n",
    "\n",
    "\n",
    "cubes = lambda x:x**3\n",
    "squares = map(lambda x: x**2,nums)\n",
    "print (list(squares))\n",
    "cubes_list = map(cubes,nums)\n",
    "print (cubes_list)\n",
    "print (range(10))\n",
    "list1 = [1,2,3,4,5]\n",
    "list2 = ['a','b','c','d','e']\n",
    "print (zip (list1,list2))"
   ]
  },
  {
   "cell_type": "markdown",
   "id": "8b605b86",
   "metadata": {},
   "source": [
    "Is it possible to have a computer language that only understands single valued functions.\n",
    "f(x)\n",
    "\n",
    "a = 0 No!  Not allowed\n",
    "if a == 0   No!  Not allowed\n",
    "for a in b:  No!  Not allowed\n",
    "f(1,2,3)  No!:  Not allowed.\n",
    "\n",
    "f(1)\n",
    "g(5)\n",
    "h('Foobar')\n",
    "f(g(h('Foobar')  Yes, allowed. "
   ]
  },
  {
   "cell_type": "markdown",
   "id": "c9b98832",
   "metadata": {},
   "source": [
    "Eager evaluation vs. lazy evaluation. "
   ]
  },
  {
   "cell_type": "code",
   "execution_count": 58,
   "id": "e3d9b784",
   "metadata": {},
   "outputs": [
    {
     "name": "stdout",
     "output_type": "stream",
     "text": [
      "[1, 4, 9, 16, 25, 36, 49, 64, 81, 100]\n",
      "<map object at 0x0000026108F88FD0>\n",
      "range(0, 10)\n",
      "(1, 'a')\n",
      "(2, 'b')\n",
      "(3, 'c')\n",
      "(4, 'd')\n",
      "(5, 'e')\n"
     ]
    }
   ],
   "source": [
    "\n",
    "cubes = lambda x:x**3\n",
    "squares = map(lambda x: x**2,nums)\n",
    "print (list(squares))\n",
    "cubes_list = map(cubes,nums)\n",
    "print (cubes_list)\n",
    "print (range(10))\n",
    "list1 = [1,2,3,4,5]\n",
    "list2 = ['a','b','c','d','e']\n",
    "z = zip (list1,list2)\n",
    "for item in z:\n",
    "    print (item)"
   ]
  },
  {
   "cell_type": "code",
   "execution_count": 62,
   "id": "fadd1dbb",
   "metadata": {},
   "outputs": [
    {
     "name": "stdout",
     "output_type": "stream",
     "text": [
      "Braun Brelin\n",
      "21\n",
      "1234 Main Street\n"
     ]
    }
   ],
   "source": [
    "from collections import namedtuple\n",
    "\n",
    "Point = namedtuple(\"Point\", \"x y\")\n",
    "\n",
    "point = Point(2,4)\n",
    "\n",
    "#print (point[0],point[1])\n",
    "#print (point.x,point.y)\n",
    "\n",
    "Person = namedtuple(\"Person\",\"name age address\")\n",
    "\n",
    "p = Person(\"Braun Brelin\",21,\"1234 Main Street\")\n",
    "print (p.name)\n",
    "print (p.age)\n",
    "print (p.address)\n",
    "\n",
    "\n",
    "\n",
    "\n"
   ]
  },
  {
   "cell_type": "code",
   "execution_count": 64,
   "id": "4f088299",
   "metadata": {},
   "outputs": [
    {
     "name": "stderr",
     "output_type": "stream",
     "text": [
      "ERROR:root:Internal Python error in the inspect module.\n",
      "Below is the traceback from this internal error.\n",
      "\n",
      "\n",
      "KeyboardInterrupt\n",
      "\n"
     ]
    }
   ],
   "source": [
    "from itertools import count\n",
    "\n",
    "print(list(count(0,2)))"
   ]
  },
  {
   "cell_type": "code",
   "execution_count": null,
   "id": "6c3740a6",
   "metadata": {},
   "outputs": [],
   "source": [
    "import os\n",
    "print (os.getcwd())"
   ]
  },
  {
   "cell_type": "code",
   "execution_count": null,
   "id": "b530c762",
   "metadata": {},
   "outputs": [],
   "source": []
  }
 ],
 "metadata": {
  "kernelspec": {
   "display_name": "Python 3 (ipykernel)",
   "language": "python",
   "name": "python3"
  },
  "language_info": {
   "codemirror_mode": {
    "name": "ipython",
    "version": 3
   },
   "file_extension": ".py",
   "mimetype": "text/x-python",
   "name": "python",
   "nbconvert_exporter": "python",
   "pygments_lexer": "ipython3",
   "version": "3.9.7"
  }
 },
 "nbformat": 4,
 "nbformat_minor": 5
}
