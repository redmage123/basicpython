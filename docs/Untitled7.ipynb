{
 "cells": [
  {
   "cell_type": "markdown",
   "metadata": {},
   "source": [
    "Review of yesterday\n",
    "\n",
    "1. Everything in python is an object. \n",
    "2. Virtual Machibe technology\n",
    "3.  High level code -> bytecode -> machine language. "
   ]
  },
  {
   "cell_type": "code",
   "execution_count": 2,
   "metadata": {},
   "outputs": [
    {
     "name": "stdout",
     "output_type": "stream",
     "text": [
      "  3           0 LOAD_FAST                0 (x)\n",
      "              2 LOAD_CONST               1 (2)\n",
      "              4 BINARY_POWER\n",
      "              6 RETURN_VALUE\n"
     ]
    }
   ],
   "source": [
    "from dis import dis\n",
    "def func1(x: int) -> int:\n",
    "    return x ** 2\n",
    "\n",
    "dis (func1)\n"
   ]
  },
  {
   "cell_type": "markdown",
   "metadata": {},
   "source": [
    "4.  Object types in Python\n",
    "    a.  Numbers\n",
    "        1.  Integer\n",
    "        2.  Float\n",
    "        3.  Complex\n",
    "        4   Hexadecimal\n",
    "        5.  Octal\n",
    "        6.  Binary\n",
    "     b. Boolean\n",
    "     c. Strings\n",
    "        1.  Strings have methods\n",
    "            a.  split()\n",
    "            b.  lower()\n",
    "            c   upper()\n",
    "            d.  strip()\n",
    "        2.  We can slice strinngs\n",
    "            a.  We use the [] (index) operator.\n",
    "            b.   [first:last-1:skip]\n",
    "            c.  String operators.  \n",
    "                1.  + -> concatenation operator\n",
    "                2.  * -> repeater operator\n",
    "            d.  Strings are iterable objects\n",
    "            e.  Strings are immutable.\n",
    "         3. Lists \n",
    "             a.  Uses the same index operator. \n",
    "             b.  Same slicing syntax as strings. \n",
    "             c.  Lists are iterable objects. \n",
    "             d.  Lists are mutable. \n",
    "             e.  List methods\n",
    "                 1.  append()\n",
    "                 2.  pop()\n",
    "                 3.  sort()\n",
    "                 4.  reverse()\n",
    "                 \n",
    "             f.  List operators. \n",
    "                 1.  +  ->  concatenation\n",
    "                 2.  * -> repeater\n",
    "                 \n",
    "          4.  Tuple. \n",
    "               a.  Tuples are like lists, but, tuples are immutable. \n",
    "               b.  Tuples have same slicing index as strings and lists. \n",
    "               c.  Cannot change the ruple once created. \n",
    "               d.  Functions that work on tuples include min(), max(), len()\n",
    "               \n",
    "               \n",
    "           5.  Sets\n",
    "               a.  Sets have unique values. \n",
    "               \n",
    "           6.  Dictionaries\n",
    "               a.  Dictionaries are a collection of key/value pairs. \n",
    "               b.  We use these when we want to do a lot of lookups on the data. \n",
    "               c.  Dictioinaries have methods such as:\n",
    "                   1.  keys() -> gives a list of the keys in the dictionary. \n",
    "                   2.  values() -> gives a list of the values in the dictionary. \n",
    "                   3.  items() -> gives a tuple of both keys and values. \n",
    "                   \n",
    "            7.  Built-in python functions. \n",
    "                a.  pribt()\n",
    "                b.  input()\n",
    "                c.  len()\n",
    "                d.  zip()\n",
    "                e.  enumerate()\n",
    "                f.  int()\n",
    "                g.  str()\n",
    "                h.  list()\n",
    "                i.  tuple()\n",
    "                j.  dict()\n",
    "                \n",
    "                \n",
    "            8.  File I/O\n",
    "                a.  Used the open() function to access the file. \n",
    "                b.  File objects are iterable. \n",
    "                c.  We use the close () method from the file object to close the file. \n",
    "            9.  Exceptions\n",
    "                Use the try/catch/else/finally blocks. \n",
    "                try:\n",
    "                    <some ccode that might raise an exception>\n",
    "                except <some exception type>: \n",
    "                    <some code here to handle that exception>\n",
    "                else:\n",
    "                     <some code that only runs if the try code succeeded>\n",
    "                finally:\n",
    "                      < some code that always runs at the end of the block.>\n",
    "                      \n",
    "                      \n",
    "       "
   ]
  },
  {
   "cell_type": "code",
   "execution_count": 3,
   "metadata": {},
   "outputs": [
    {
     "data": {
      "text/plain": [
       "'C:\\\\Users\\\\bbrel\\\\basicpython\\\\docs'"
      ]
     },
     "execution_count": 3,
     "metadata": {},
     "output_type": "execute_result"
    }
   ],
   "source": [
    "from os import getcwd\n",
    "getcwd()"
   ]
  },
  {
   "cell_type": "code",
   "execution_count": 14,
   "metadata": {},
   "outputs": [
    {
     "ename": "KeyboardInterrupt",
     "evalue": "Interrupted by user",
     "output_type": "error",
     "traceback": [
      "\u001b[1;31m---------------------------------------------------------------------------\u001b[0m",
      "\u001b[1;31mKeyboardInterrupt\u001b[0m                         Traceback (most recent call last)",
      "\u001b[1;32m<ipython-input-14-ba0d6e1ede1e>\u001b[0m in \u001b[0;36m<module>\u001b[1;34m\u001b[0m\n\u001b[0;32m     11\u001b[0m \u001b[1;33m\u001b[0m\u001b[0m\n\u001b[0;32m     12\u001b[0m \u001b[0mf\u001b[0m\u001b[1;33m.\u001b[0m\u001b[0mclose\u001b[0m\u001b[1;33m(\u001b[0m\u001b[1;33m)\u001b[0m\u001b[1;33m\u001b[0m\u001b[1;33m\u001b[0m\u001b[0m\n\u001b[1;32m---> 13\u001b[1;33m \u001b[0mteam_name\u001b[0m \u001b[1;33m=\u001b[0m \u001b[0minput\u001b[0m\u001b[1;33m(\u001b[0m\u001b[1;34m\"Please enter a team name: \"\u001b[0m\u001b[1;33m)\u001b[0m\u001b[1;33m\u001b[0m\u001b[1;33m\u001b[0m\u001b[0m\n\u001b[0m\u001b[0;32m     14\u001b[0m \u001b[1;32mif\u001b[0m \u001b[0mteam_name\u001b[0m \u001b[1;32mnot\u001b[0m \u001b[1;32min\u001b[0m \u001b[0mteam_dict\u001b[0m\u001b[1;33m:\u001b[0m\u001b[1;33m\u001b[0m\u001b[1;33m\u001b[0m\u001b[0m\n\u001b[0;32m     15\u001b[0m     \u001b[0mprint\u001b[0m \u001b[1;33m(\u001b[0m\u001b[1;34m\"Invalid name! \"\u001b[0m\u001b[1;33m,\u001b[0m \u001b[0mteam_name\u001b[0m\u001b[1;33m)\u001b[0m\u001b[1;33m\u001b[0m\u001b[1;33m\u001b[0m\u001b[0m\n",
      "\u001b[1;32m~\\anaconda3\\lib\\site-packages\\ipykernel\\kernelbase.py\u001b[0m in \u001b[0;36mraw_input\u001b[1;34m(self, prompt)\u001b[0m\n\u001b[0;32m    858\u001b[0m                 \u001b[1;34m\"raw_input was called, but this frontend does not support input requests.\"\u001b[0m\u001b[1;33m\u001b[0m\u001b[1;33m\u001b[0m\u001b[0m\n\u001b[0;32m    859\u001b[0m             )\n\u001b[1;32m--> 860\u001b[1;33m         return self._input_request(str(prompt),\n\u001b[0m\u001b[0;32m    861\u001b[0m             \u001b[0mself\u001b[0m\u001b[1;33m.\u001b[0m\u001b[0m_parent_ident\u001b[0m\u001b[1;33m,\u001b[0m\u001b[1;33m\u001b[0m\u001b[1;33m\u001b[0m\u001b[0m\n\u001b[0;32m    862\u001b[0m             \u001b[0mself\u001b[0m\u001b[1;33m.\u001b[0m\u001b[0m_parent_header\u001b[0m\u001b[1;33m,\u001b[0m\u001b[1;33m\u001b[0m\u001b[1;33m\u001b[0m\u001b[0m\n",
      "\u001b[1;32m~\\anaconda3\\lib\\site-packages\\ipykernel\\kernelbase.py\u001b[0m in \u001b[0;36m_input_request\u001b[1;34m(self, prompt, ident, parent, password)\u001b[0m\n\u001b[0;32m    902\u001b[0m             \u001b[1;32mexcept\u001b[0m \u001b[0mKeyboardInterrupt\u001b[0m\u001b[1;33m:\u001b[0m\u001b[1;33m\u001b[0m\u001b[1;33m\u001b[0m\u001b[0m\n\u001b[0;32m    903\u001b[0m                 \u001b[1;31m# re-raise KeyboardInterrupt, to truncate traceback\u001b[0m\u001b[1;33m\u001b[0m\u001b[1;33m\u001b[0m\u001b[1;33m\u001b[0m\u001b[0m\n\u001b[1;32m--> 904\u001b[1;33m                 \u001b[1;32mraise\u001b[0m \u001b[0mKeyboardInterrupt\u001b[0m\u001b[1;33m(\u001b[0m\u001b[1;34m\"Interrupted by user\"\u001b[0m\u001b[1;33m)\u001b[0m \u001b[1;32mfrom\u001b[0m \u001b[1;32mNone\u001b[0m\u001b[1;33m\u001b[0m\u001b[1;33m\u001b[0m\u001b[0m\n\u001b[0m\u001b[0;32m    905\u001b[0m             \u001b[1;32mexcept\u001b[0m \u001b[0mException\u001b[0m \u001b[1;32mas\u001b[0m \u001b[0me\u001b[0m\u001b[1;33m:\u001b[0m\u001b[1;33m\u001b[0m\u001b[1;33m\u001b[0m\u001b[0m\n\u001b[0;32m    906\u001b[0m                 \u001b[0mself\u001b[0m\u001b[1;33m.\u001b[0m\u001b[0mlog\u001b[0m\u001b[1;33m.\u001b[0m\u001b[0mwarning\u001b[0m\u001b[1;33m(\u001b[0m\u001b[1;34m\"Invalid Message:\"\u001b[0m\u001b[1;33m,\u001b[0m \u001b[0mexc_info\u001b[0m\u001b[1;33m=\u001b[0m\u001b[1;32mTrue\u001b[0m\u001b[1;33m)\u001b[0m\u001b[1;33m\u001b[0m\u001b[1;33m\u001b[0m\u001b[0m\n",
      "\u001b[1;31mKeyboardInterrupt\u001b[0m: Interrupted by user"
     ]
    }
   ],
   "source": [
    "try:\n",
    "    f = open ('c:/users/bbrel/basicpython/labs/lab4/data/albb.salaries.2003.formatted.csv')\n",
    "except FileNotFoundError:\n",
    "    print (\"Invalid file!\")\n",
    "    quit()\n",
    "    \n",
    "team_dict = {}\n",
    "try:\n",
    "    for line in f:\n",
    "        if len(line) == 4:\n",
    "            break\n",
    "        data = line.strip().split(',')\n",
    "        try:\n",
    "            if data[0] not in team_dict:\n",
    "                team_dict[data[0]] = int(data[3])\n",
    "            else:\n",
    "                team_dict[data[0]] += int(data[3])\n",
    "        except ValueError:\n",
    "            continue\n",
    "except IOError:\n",
    "    print (\"I/O Error raised!\")\n",
    "    quit()\n",
    "finally:\n",
    "    f.close()\n",
    "    \n",
    "team_name = input(\"Please enter a team name: \")\n",
    "#if team_name not in team_dict:\n",
    "#    print (\"Invalid name! \", team_name)\n",
    "#else:\n",
    "#    print (team_dict[team_name])\n",
    "\n",
    "try:\n",
    "    print (team_dict[team_name])\n",
    "except KeyError:\n",
    "    print (\"Invalid team name\", team_name)\n",
    "    "
   ]
  },
  {
   "cell_type": "code",
   "execution_count": 21,
   "metadata": {},
   "outputs": [
    {
     "name": "stdout",
     "output_type": "stream",
     "text": [
      "Enter name to search for: Cristobal\n",
      "No match found!\n"
     ]
    }
   ],
   "source": [
    "import re\n",
    "name = input(\"Enter name to search for: \")\n",
    "data = \"12345,Braun Brelin, 1234 Main St., Anytown, USA\"\n",
    "RE = \".*\" + name + \".*\"\n",
    "if re.match(RE,data):\n",
    "    print (\"Found a match!\")\n",
    "else:\n",
    "    print (\"No match found!\")\n"
   ]
  },
  {
   "cell_type": "code",
   "execution_count": 30,
   "metadata": {},
   "outputs": [
    {
     "name": "stdout",
     "output_type": "stream",
     "text": [
      "Fouhd a match!\n",
      "Braun Brelin\n",
      "Employee ID n=  12345 Nane =  Braun Brelin\n"
     ]
    }
   ],
   "source": [
    "data = \"12345Braun Brelin\"\n",
    "match_output = re.match(\"(\\d+)(\\w+ \\w+)\",data)\n",
    "if match_output:\n",
    "    print (\"Fouhd a match!\")\n",
    "    print (match_output.group(2))\n",
    "else:\n",
    "    print (\"No match found!\")  \n",
    "emp_id = match_output.group(1)\n",
    "name = match_output.group(2)\n",
    "print (\"Employee ID n= \", emp_id, \"Nane = \",name)"
   ]
  },
  {
   "cell_type": "markdown",
   "metadata": {},
   "source": [
    "abc123abc123abc\n",
    "\n",
    "\"abc.*abc\"\n",
    "\n",
    "By default, all regular expression matches are greedy.\n",
    "This means, that the RE engine will match on the largest possible size. \n"
   ]
  }
 ],
 "metadata": {
  "kernelspec": {
   "display_name": "Python 3",
   "language": "python",
   "name": "python3"
  },
  "language_info": {
   "codemirror_mode": {
    "name": "ipython",
    "version": 3
   },
   "file_extension": ".py",
   "mimetype": "text/x-python",
   "name": "python",
   "nbconvert_exporter": "python",
   "pygments_lexer": "ipython3",
   "version": "3.8.5"
  }
 },
 "nbformat": 4,
 "nbformat_minor": 4
}
