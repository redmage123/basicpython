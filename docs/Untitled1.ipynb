{
 "cells": [
  {
   "cell_type": "markdown",
   "id": "d6a6ae29",
   "metadata": {},
   "source": [
    "1.  Numbers\n",
    "2.  Strings\n",
    "3.  Lists\n",
    "4.  Tuples\n",
    "5.  Sets\n",
    "\n"
   ]
  },
  {
   "cell_type": "markdown",
   "id": "0f6a8f7a",
   "metadata": {},
   "source": [
    "Dictionary.  \n",
    "A dictionary in Python is a set of key/value pairs. \n"
   ]
  },
  {
   "cell_type": "code",
   "execution_count": 1,
   "id": "c292962a",
   "metadata": {},
   "outputs": [
    {
     "name": "stdout",
     "output_type": "stream",
     "text": [
      "Braun Brelin\n"
     ]
    }
   ],
   "source": [
    "d = {\"12345\":\"Braun Brelin\", \"12346\":\"Joe Green\", \"12347\":\"John Brown\"}\n",
    "print (d[\"12345\"])"
   ]
  },
  {
   "cell_type": "code",
   "execution_count": 2,
   "id": "c5ce978c",
   "metadata": {},
   "outputs": [],
   "source": [
    "d[\"12348\"] = \"Jake Smith\""
   ]
  },
  {
   "cell_type": "code",
   "execution_count": 3,
   "id": "71d90eae",
   "metadata": {},
   "outputs": [
    {
     "name": "stdout",
     "output_type": "stream",
     "text": [
      "{'12345': 'Braun Brelin', '12346': 'Joe Green', '12347': 'John Brown', '12348': 'Jake Smith'}\n"
     ]
    }
   ],
   "source": [
    "print (d)"
   ]
  },
  {
   "cell_type": "code",
   "execution_count": 4,
   "id": "945d75be",
   "metadata": {},
   "outputs": [
    {
     "data": {
      "text/plain": [
       "['__class__',\n",
       " '__class_getitem__',\n",
       " '__contains__',\n",
       " '__delattr__',\n",
       " '__delitem__',\n",
       " '__dir__',\n",
       " '__doc__',\n",
       " '__eq__',\n",
       " '__format__',\n",
       " '__ge__',\n",
       " '__getattribute__',\n",
       " '__getitem__',\n",
       " '__gt__',\n",
       " '__hash__',\n",
       " '__init__',\n",
       " '__init_subclass__',\n",
       " '__ior__',\n",
       " '__iter__',\n",
       " '__le__',\n",
       " '__len__',\n",
       " '__lt__',\n",
       " '__ne__',\n",
       " '__new__',\n",
       " '__or__',\n",
       " '__reduce__',\n",
       " '__reduce_ex__',\n",
       " '__repr__',\n",
       " '__reversed__',\n",
       " '__ror__',\n",
       " '__setattr__',\n",
       " '__setitem__',\n",
       " '__sizeof__',\n",
       " '__str__',\n",
       " '__subclasshook__',\n",
       " 'clear',\n",
       " 'copy',\n",
       " 'fromkeys',\n",
       " 'get',\n",
       " 'items',\n",
       " 'keys',\n",
       " 'pop',\n",
       " 'popitem',\n",
       " 'setdefault',\n",
       " 'update',\n",
       " 'values']"
      ]
     },
     "execution_count": 4,
     "metadata": {},
     "output_type": "execute_result"
    }
   ],
   "source": [
    "dir (dict)"
   ]
  },
  {
   "cell_type": "code",
   "execution_count": 5,
   "id": "3276ad65",
   "metadata": {},
   "outputs": [
    {
     "name": "stdout",
     "output_type": "stream",
     "text": [
      "dict_keys(['12345', '12346', '12347', '12348'])\n"
     ]
    }
   ],
   "source": [
    "print (d.keys())"
   ]
  },
  {
   "cell_type": "code",
   "execution_count": 6,
   "id": "efde4525",
   "metadata": {},
   "outputs": [
    {
     "name": "stdout",
     "output_type": "stream",
     "text": [
      "dict_values(['Braun Brelin', 'Joe Green', 'John Brown', 'Jake Smith'])\n"
     ]
    }
   ],
   "source": [
    "print (d.values())"
   ]
  },
  {
   "cell_type": "code",
   "execution_count": 7,
   "id": "7172aea8",
   "metadata": {},
   "outputs": [
    {
     "name": "stdout",
     "output_type": "stream",
     "text": [
      "dict_items([('12345', 'Braun Brelin'), ('12346', 'Joe Green'), ('12347', 'John Brown'), ('12348', 'Jake Smith')])\n"
     ]
    }
   ],
   "source": [
    "print (d.items())"
   ]
  },
  {
   "cell_type": "code",
   "execution_count": 8,
   "id": "445d23c0",
   "metadata": {},
   "outputs": [
    {
     "ename": "KeyError",
     "evalue": "'12349'",
     "output_type": "error",
     "traceback": [
      "\u001b[1;31m---------------------------------------------------------------------------\u001b[0m",
      "\u001b[1;31mKeyError\u001b[0m                                  Traceback (most recent call last)",
      "\u001b[1;32m~\\AppData\\Local\\Temp/ipykernel_7968/3636667402.py\u001b[0m in \u001b[0;36m<module>\u001b[1;34m\u001b[0m\n\u001b[1;32m----> 1\u001b[1;33m \u001b[0mprint\u001b[0m \u001b[1;33m(\u001b[0m\u001b[0md\u001b[0m\u001b[1;33m[\u001b[0m\u001b[1;34m\"12349\"\u001b[0m\u001b[1;33m]\u001b[0m\u001b[1;33m)\u001b[0m\u001b[1;33m\u001b[0m\u001b[1;33m\u001b[0m\u001b[0m\n\u001b[0m",
      "\u001b[1;31mKeyError\u001b[0m: '12349'"
     ]
    }
   ],
   "source": [
    "print (d[\"12349\"])"
   ]
  },
  {
   "cell_type": "code",
   "execution_count": 9,
   "id": "6cb4bd31",
   "metadata": {},
   "outputs": [
    {
     "data": {
      "text/plain": [
       "{'12345': 'Braun Brelin',\n",
       " '12346': 'Joe Green',\n",
       " '12347': 'John Brown',\n",
       " '12348': 'Jake Smith'}"
      ]
     },
     "execution_count": 9,
     "metadata": {},
     "output_type": "execute_result"
    }
   ],
   "source": [
    "d"
   ]
  },
  {
   "cell_type": "code",
   "execution_count": 10,
   "id": "18e6e34c",
   "metadata": {},
   "outputs": [
    {
     "name": "stdout",
     "output_type": "stream",
     "text": [
      "Braun Brelin\n",
      "Joe Green\n",
      "John Brown\n",
      "Jake Smith\n"
     ]
    }
   ],
   "source": [
    "for key in d.keys():\n",
    "    print (d[key])"
   ]
  },
  {
   "cell_type": "code",
   "execution_count": 11,
   "id": "4b50482c",
   "metadata": {},
   "outputs": [
    {
     "name": "stdout",
     "output_type": "stream",
     "text": [
      "('12345', 'Braun Brelin')\n",
      "('12346', 'Joe Green')\n",
      "('12347', 'John Brown')\n",
      "('12348', 'Jake Smith')\n"
     ]
    }
   ],
   "source": [
    "for item in d.items():\n",
    "    print (item)"
   ]
  },
  {
   "cell_type": "code",
   "execution_count": 12,
   "id": "fd546cdb",
   "metadata": {},
   "outputs": [
    {
     "data": {
      "text/plain": [
       "'C:\\\\Users\\\\User\\\\basicpython\\\\docs'"
      ]
     },
     "execution_count": 12,
     "metadata": {},
     "output_type": "execute_result"
    }
   ],
   "source": [
    "import os\n",
    "os.getcwd()"
   ]
  },
  {
   "cell_type": "code",
   "execution_count": 23,
   "id": "eb7cd6ef",
   "metadata": {},
   "outputs": [],
   "source": [
    "f = open(\"foo.txt\")"
   ]
  },
  {
   "cell_type": "code",
   "execution_count": 24,
   "id": "ae0b3f1a",
   "metadata": {
    "scrolled": true
   },
   "outputs": [
    {
     "data": {
      "text/plain": [
       "['_CHUNK_SIZE',\n",
       " '__class__',\n",
       " '__del__',\n",
       " '__delattr__',\n",
       " '__dict__',\n",
       " '__dir__',\n",
       " '__doc__',\n",
       " '__enter__',\n",
       " '__eq__',\n",
       " '__exit__',\n",
       " '__format__',\n",
       " '__ge__',\n",
       " '__getattribute__',\n",
       " '__gt__',\n",
       " '__hash__',\n",
       " '__init__',\n",
       " '__init_subclass__',\n",
       " '__iter__',\n",
       " '__le__',\n",
       " '__lt__',\n",
       " '__ne__',\n",
       " '__new__',\n",
       " '__next__',\n",
       " '__reduce__',\n",
       " '__reduce_ex__',\n",
       " '__repr__',\n",
       " '__setattr__',\n",
       " '__sizeof__',\n",
       " '__str__',\n",
       " '__subclasshook__',\n",
       " '_checkClosed',\n",
       " '_checkReadable',\n",
       " '_checkSeekable',\n",
       " '_checkWritable',\n",
       " '_finalizing',\n",
       " 'buffer',\n",
       " 'close',\n",
       " 'closed',\n",
       " 'detach',\n",
       " 'encoding',\n",
       " 'errors',\n",
       " 'fileno',\n",
       " 'flush',\n",
       " 'isatty',\n",
       " 'line_buffering',\n",
       " 'mode',\n",
       " 'name',\n",
       " 'newlines',\n",
       " 'read',\n",
       " 'readable',\n",
       " 'readline',\n",
       " 'readlines',\n",
       " 'reconfigure',\n",
       " 'seek',\n",
       " 'seekable',\n",
       " 'tell',\n",
       " 'truncate',\n",
       " 'writable',\n",
       " 'write',\n",
       " 'write_through',\n",
       " 'writelines']"
      ]
     },
     "execution_count": 24,
     "metadata": {},
     "output_type": "execute_result"
    }
   ],
   "source": [
    "dir (f)"
   ]
  },
  {
   "cell_type": "code",
   "execution_count": 53,
   "id": "bc4548e7",
   "metadata": {},
   "outputs": [],
   "source": [
    "f = open (\"foo.txt\")"
   ]
  },
  {
   "cell_type": "code",
   "execution_count": 30,
   "id": "be15d02b",
   "metadata": {},
   "outputs": [
    {
     "name": "stdout",
     "output_type": "stream",
     "text": [
      "This is foo.\n",
      "\n"
     ]
    }
   ],
   "source": [
    "print (f.readline())"
   ]
  },
  {
   "cell_type": "code",
   "execution_count": 31,
   "id": "fbee0abe",
   "metadata": {},
   "outputs": [
    {
     "name": "stdout",
     "output_type": "stream",
     "text": [
      "Foo is great!\n",
      "\n"
     ]
    }
   ],
   "source": [
    "print (f.readline())\n"
   ]
  },
  {
   "cell_type": "code",
   "execution_count": 52,
   "id": "7b553f74",
   "metadata": {},
   "outputs": [],
   "source": [
    "f.close()"
   ]
  },
  {
   "cell_type": "code",
   "execution_count": 54,
   "id": "c47efd7b",
   "metadata": {},
   "outputs": [
    {
     "name": "stdout",
     "output_type": "stream",
     "text": [
      "['12345', 'Braun', 'Brelin']\n",
      "['12346', 'Joe', 'Blow']\n",
      "['12347', 'James Brown']\n"
     ]
    }
   ],
   "source": [
    "for line in f:\n",
    "    record = line.strip().split(\",\")\n",
    "    print (record)"
   ]
  },
  {
   "cell_type": "code",
   "execution_count": 36,
   "id": "ac723d89",
   "metadata": {},
   "outputs": [
    {
     "data": {
      "text/plain": [
       "['__add__',\n",
       " '__class__',\n",
       " '__contains__',\n",
       " '__delattr__',\n",
       " '__dir__',\n",
       " '__doc__',\n",
       " '__eq__',\n",
       " '__format__',\n",
       " '__ge__',\n",
       " '__getattribute__',\n",
       " '__getitem__',\n",
       " '__getnewargs__',\n",
       " '__gt__',\n",
       " '__hash__',\n",
       " '__init__',\n",
       " '__init_subclass__',\n",
       " '__iter__',\n",
       " '__le__',\n",
       " '__len__',\n",
       " '__lt__',\n",
       " '__mod__',\n",
       " '__mul__',\n",
       " '__ne__',\n",
       " '__new__',\n",
       " '__reduce__',\n",
       " '__reduce_ex__',\n",
       " '__repr__',\n",
       " '__rmod__',\n",
       " '__rmul__',\n",
       " '__setattr__',\n",
       " '__sizeof__',\n",
       " '__str__',\n",
       " '__subclasshook__',\n",
       " 'capitalize',\n",
       " 'casefold',\n",
       " 'center',\n",
       " 'count',\n",
       " 'encode',\n",
       " 'endswith',\n",
       " 'expandtabs',\n",
       " 'find',\n",
       " 'format',\n",
       " 'format_map',\n",
       " 'index',\n",
       " 'isalnum',\n",
       " 'isalpha',\n",
       " 'isascii',\n",
       " 'isdecimal',\n",
       " 'isdigit',\n",
       " 'isidentifier',\n",
       " 'islower',\n",
       " 'isnumeric',\n",
       " 'isprintable',\n",
       " 'isspace',\n",
       " 'istitle',\n",
       " 'isupper',\n",
       " 'join',\n",
       " 'ljust',\n",
       " 'lower',\n",
       " 'lstrip',\n",
       " 'maketrans',\n",
       " 'partition',\n",
       " 'removeprefix',\n",
       " 'removesuffix',\n",
       " 'replace',\n",
       " 'rfind',\n",
       " 'rindex',\n",
       " 'rjust',\n",
       " 'rpartition',\n",
       " 'rsplit',\n",
       " 'rstrip',\n",
       " 'split',\n",
       " 'splitlines',\n",
       " 'startswith',\n",
       " 'strip',\n",
       " 'swapcase',\n",
       " 'title',\n",
       " 'translate',\n",
       " 'upper',\n",
       " 'zfill']"
      ]
     },
     "execution_count": 36,
     "metadata": {},
     "output_type": "execute_result"
    }
   ],
   "source": [
    "dir(str)"
   ]
  },
  {
   "cell_type": "code",
   "execution_count": 72,
   "id": "958c2cb2",
   "metadata": {},
   "outputs": [
    {
     "name": "stdout",
     "output_type": "stream",
     "text": [
      "Please enter a team name: New York Yankees\n",
      "Team: New York Yankees aggregated salary: $152749814.00\n",
      "Please enter a team name: Anaheim Angels\n",
      "Team: Anaheim Angels aggregated salary: $79031667.00\n",
      "Please enter a team name: Blech\n",
      "Invalid team name!\n",
      "Please enter a team name: Exit\n"
     ]
    }
   ],
   "source": [
    "import sys\n",
    "try:  #This is an example of exception handling. \n",
    "    f = open(\"ALbb.salaries.2003.formatted.csv\")\n",
    "except FileNotFoundError:\n",
    "    print (\"Error:  File not found!\")\n",
    "    sys.exit(1)\n",
    "    \n",
    "    \n",
    "team_dict = {}\n",
    "try: \n",
    "    for data in f:\n",
    "        if len (data) == 4:\n",
    "            break\n",
    "        line = data.strip().split(',')\n",
    "        try:\n",
    "            if line[0] in team_dict:\n",
    "                team_dict[line[0]] += int(line[3])\n",
    "            else:\n",
    "                team_dict[line[0]] = int(line[3])\n",
    "        except ValueError:\n",
    "            continue\n",
    "except IOError:\n",
    "    print (\"I/O Error!\")\n",
    "    sys.exit(1)\n",
    "else:\n",
    "    pass\n",
    "finally:\n",
    "    f.close()\n",
    "\n",
    "while (True):\n",
    "    team = input('Please enter a team name: ')\n",
    "    if team in team_dict:\n",
    "#        print (team_dict[team])\n",
    "        print(\"Team: %s aggregated salary: $%.2f\" % (team, team_dict[team]))\n",
    "    elif team == 'Exit':\n",
    "        break\n",
    "    else:\n",
    "        print ('Invalid team name!')\n"
   ]
  },
  {
   "cell_type": "code",
   "execution_count": null,
   "id": "88cb6652",
   "metadata": {},
   "outputs": [],
   "source": [
    "import math\n",
    "from math import atan, sqrt, pi\n",
    "import pandas as pd\n",
    "import numpy as np\n"
   ]
  },
  {
   "cell_type": "code",
   "execution_count": 73,
   "id": "6d39f0dd",
   "metadata": {},
   "outputs": [
    {
     "data": {
      "text/plain": [
       "['FEE', 'FI', 'FO', 'FUM']"
      ]
     },
     "execution_count": 73,
     "metadata": {},
     "output_type": "execute_result"
    }
   ],
   "source": [
    "words = ['Fee','Fi','Fo','Fum']\n",
    "upper_words = [word.upper() for word in words]\n",
    "upper_words"
   ]
  },
  {
   "cell_type": "code",
   "execution_count": 77,
   "id": "5e2c17e1",
   "metadata": {},
   "outputs": [
    {
     "name": "stdout",
     "output_type": "stream",
     "text": [
      "{1: 'a', 2: 'b', 3: 'c', 4: 'd', 5: 'e'}\n"
     ]
    }
   ],
   "source": [
    "list1 = [1,2,3,4,5]\n",
    "list2 = ['a','b','c','d','e']\n",
    "dict1 = {key:value for (key,value) in zip(list1,list2)} # Dictionary Comprehension.\n",
    "print(dict1)"
   ]
  }
 ],
 "metadata": {
  "kernelspec": {
   "display_name": "Python 3 (ipykernel)",
   "language": "python",
   "name": "python3"
  },
  "language_info": {
   "codemirror_mode": {
    "name": "ipython",
    "version": 3
   },
   "file_extension": ".py",
   "mimetype": "text/x-python",
   "name": "python",
   "nbconvert_exporter": "python",
   "pygments_lexer": "ipython3",
   "version": "3.9.7"
  }
 },
 "nbformat": 4,
 "nbformat_minor": 5
}
