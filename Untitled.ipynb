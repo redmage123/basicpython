{
 "cells": [
  {
   "cell_type": "code",
   "execution_count": 10,
   "metadata": {
    "collapsed": false
   },
   "outputs": [
    {
     "name": "stdout",
     "output_type": "stream",
     "text": [
      "house1.owner =  Braun Brelin\n",
      "house1.address =  1234 Little Box Lane\n",
      "house1.taxtopay =  200.0\n",
      "The static value of numhouses is: 1\n",
      "\n",
      "house2.owner =  Jon Brelin\n",
      "house2.address =  1235 Little Box Lane\n",
      "house2.taxtopay =  200.0\n",
      "The static value of numhouses is: 2\n",
      "\n",
      "The static value of numhouses is: 2\n"
     ]
    }
   ],
   "source": [
    "class House(object):\n",
    "    numhouses=0\n",
    "    def __init__(self,owner,address):\n",
    "        self.owner = owner\n",
    "        self.address = address\n",
    "        self.value = 100000.00\n",
    "        House.numhouses +=1\n",
    "    def calculate_tax(self):\n",
    "        return self.value * .002\n",
    "    \n",
    "    @staticmethod\n",
    "    def mow_lawn():\n",
    "        call_gardener_app()\n",
    "        \n",
    "\n",
    "house1 = House('Braun Brelin','1234 Little Box Lane')\n",
    "print ('house1.owner = ',house1.owner)\n",
    "print ('house1.address = ',house1.address)\n",
    "print ('house1.taxtopay = ',house1.calculate_tax())\n",
    "print ('The static value of numhouses is:',house1.numhouses)\n",
    "print()\n",
    "house2 = House('Jon Brelin','1235 Little Box Lane')\n",
    "print ('house2.owner = ',house2.owner)\n",
    "print ('house2.address = ',house2.address)\n",
    "print ('house2.taxtopay = ',house2.calculate_tax())\n",
    "print ('The static value of numhouses is:',house2.numhouses)\n",
    "print()\n",
    "print ('The static value of numhouses is:',house1.numhouses)"
   ]
  },
  {
   "cell_type": "code",
   "execution_count": 15,
   "metadata": {
    "collapsed": false
   },
   "outputs": [
    {
     "name": "stdout",
     "output_type": "stream",
     "text": [
      "Foo\n"
     ]
    }
   ],
   "source": [
    "class Foo(object):\n",
    "    def __init__(self,cs):\n",
    "        self.class_string = cs\n",
    "       \n",
    "    def returnstring(self):\n",
    "       return self.class_string\n",
    "\n",
    "class Bar(Foo):\n",
    "    def __init__(self,class_string = 'Foo'):\n",
    "        super().__init__(class_string)\n",
    "        pass\n",
    "    \n",
    "b = Bar()\n",
    "print (b.returnstring())"
   ]
  },
  {
   "cell_type": "code",
   "execution_count": null,
   "metadata": {
    "collapsed": true
   },
   "outputs": [],
   "source": [
    "class BankBranch(object):\n",
    "    def __init__(self,branchnum):\n",
    "        self.branchnum = branchnum\n",
    "        \n",
    "    def getBranchData(self):\n",
    "        return get_branch_data(branchnum)\n",
    "    \n",
    "class BankAccount(object):\n",
    "    def __init__(self,acctholder,bankacctnum,balance):\n",
    "        self.acctholder = acctholder\n",
    "        self.bankacctnum = bankacctnum\n",
    "        self.balance = balance\n",
    "\n",
    "class SavingsAccount(BankAccount,BankBranch):\n",
    "    def __init__(self,acctholder,bankacctnum,balance,branchnum):\n",
    "        super(BankAccount,self).__init__(acctholder,bankacctnum,balance)\n",
    "        super(BankBranch,self).__init__(branchnum)\n",
    "        self.rate_of_interest = .04\n",
    "\n",
    "class CurrentAccount(BankAccount)\n",
    "     def __init__(self,acctholder,bankacctnum,balance):\n",
    "         super().__init__(acctholder,bankacctnum,balance)\n",
    "         self.rate_of_interest = .02\n",
    "\n",
    "        "
   ]
  },
  {
   "cell_type": "code",
   "execution_count": 19,
   "metadata": {
    "collapsed": false
   },
   "outputs": [
    {
     "name": "stdout",
     "output_type": "stream",
     "text": [
      "x: 3 y: 4\n"
     ]
    }
   ],
   "source": [
    "class Vector(object):\n",
    "    def __init__(self,x,y):\n",
    "        self.x = x\n",
    "        self.y = y\n",
    "        \n",
    "    def __str__(self):\n",
    "        return ('x: %d y: %d' % (self.x,self.y))\n",
    "    \n",
    "    def __add__(self,other):\n",
    "        return Vector(self.x + other.x, self.y + other.y)\n",
    "    \n",
    "V1 = Vector(1,2)\n",
    "V2 = Vector(2,2)\n",
    "\n",
    "V3 = V1 + V2\n",
    "\n",
    "print (V3)"
   ]
  }
 ],
 "metadata": {
  "kernelspec": {
   "display_name": "Python 3",
   "language": "python",
   "name": "python3"
  },
  "language_info": {
   "codemirror_mode": {
    "name": "ipython",
    "version": 3
   },
   "file_extension": ".py",
   "mimetype": "text/x-python",
   "name": "python",
   "nbconvert_exporter": "python",
   "pygments_lexer": "ipython3",
   "version": "3.4.3"
  }
 },
 "nbformat": 4,
 "nbformat_minor": 2
}
